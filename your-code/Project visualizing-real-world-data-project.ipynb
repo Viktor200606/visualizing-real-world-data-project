{
 "cells": [
  {
   "cell_type": "code",
   "execution_count": null,
   "metadata": {},
   "outputs": [],
   "source": [
    "#Nota la base tenia mas de 800 000 registros y pesaba casi 700 megas por lo que solo pude ocupar 10 000 para el proyecto\n",
    "\n",
    "import json\n",
    "import requests\n",
    "import feedparser\n",
    "import pymysql\n",
    "from sqlalchemy import create_engine\n",
    "from pandas.io.json import json_normalize\n",
    "import random\n",
    "from plotly import plotly\n",
    "import cufflinks as cf\n",
    "import pandas as pd\n",
    "import numpy as np\n",
    "import matplotlib.pyplot as plt\n",
    "from plotly import plotly\n",
    "import cufflinks as cf\n",
    "\n",
    "\n",
    "\n",
    "#Pagina de api\n",
    "#https://datos.cdmx.gob.mx/explore/dataset/carpetas-de-investigacion-pgj-cdmx/api/?rows=5000&sort=&refine.ao_hechos=2018    \n",
    "url = 'https://datos.cdmx.gob.mx/api/records/1.0/search/?dataset=carpetas-de-investigacion-pgj-cdmx&rows=10000&start=0&facet=ao_hechos&facet=mes_hechos&facet=delito&facet=categoria_delito&facet=fiscalia&facet=colonia_hechos&facet=alcaldia_hechos'\n",
    "\n",
    "response = requests.get(url)\n",
    "response #Nos aseguramos que la respuesta sea un Ok 200!!!!!"
   ]
  },
  {
   "cell_type": "code",
   "execution_count": null,
   "metadata": {},
   "outputs": [],
   "source": [
    "response = response.json()\n",
    "response"
   ]
  },
  {
   "cell_type": "code",
   "execution_count": null,
   "metadata": {},
   "outputs": [],
   "source": [
    "response1 = json_normalize(response['records'])"
   ]
  },
  {
   "cell_type": "code",
   "execution_count": null,
   "metadata": {},
   "outputs": [],
   "source": [
    "response1.to_csv('CIPGJ.csv', index=False)"
   ]
  },
  {
   "cell_type": "code",
   "execution_count": null,
   "metadata": {},
   "outputs": [],
   "source": [
    "response1 = pd.read_csv('CIPGJ.csv')\n",
    "CIPGJ = pd.DataFrame(response1)\n",
    "CIPGJ.head(2)"
   ]
  },
  {
   "cell_type": "code",
   "execution_count": null,
   "metadata": {},
   "outputs": [],
   "source": [
    "CIPGJ.columns"
   ]
  },
  {
   "cell_type": "code",
   "execution_count": null,
   "metadata": {},
   "outputs": [],
   "source": [
    "CIPGJ = CIPGJ.rename(columns={'fields.agencia':'agencia', 'fields.alcaldia_hechos':'alcaldia_hechos',\n",
    "       'fields.ao_hechos':'ano_hechos', 'fields.ao_inicio':'ano_inicio', 'fields.calle_hechos':'calle_hechos',\n",
    "       'fields.calle_hechos2':'Esquina', 'fields.categoria_delito':'categoria_delito',\n",
    "       'fields.colonia_hechos':'colonia_hechos', 'fields.delito':'delito', 'fields.fecha_hechos':'fecha_hechos',\n",
    "       'fields.fecha_inicio':'fecha_inicio', 'fields.fiscalia':'fiscalia', 'fields.mes_hechos':'mes_hechos',\n",
    "       'fields.mes_inicio':'mes_inicio', 'fields.unidad_investigacion':'unidad_investigacion',\n",
    "       })\n",
    "CIPGJ.head(2)"
   ]
  },
  {
   "cell_type": "code",
   "execution_count": null,
   "metadata": {},
   "outputs": [],
   "source": [
    "column_order1 = ['datasetid','delito','categoria_delito','fecha_hechos','fecha_inicio','alcaldia_hechos','agencia','fiscalia','unidad_investigacion','colonia_hechos','calle_hechos','Esquina','mes_hechos','fields.geopoint','fields.latitud','fields.longitud','geometry.coordinates','geometry.type']\n",
    "users_columns = CIPGJ[column_order1]\n",
    "users_columns.head(2)"
   ]
  },
  {
   "cell_type": "code",
   "execution_count": null,
   "metadata": {},
   "outputs": [],
   "source": [
    "users_columns.dtypes"
   ]
  },
  {
   "cell_type": "code",
   "execution_count": null,
   "metadata": {},
   "outputs": [],
   "source": []
  },
  {
   "cell_type": "code",
   "execution_count": null,
   "metadata": {},
   "outputs": [],
   "source": [
    "bool_series = pd.isnull(users_columns[\"fields.geopoint\"])\n",
    "nulos=users_columns[bool_series]\n",
    "nulos"
   ]
  },
  {
   "cell_type": "code",
   "execution_count": null,
   "metadata": {},
   "outputs": [],
   "source": [
    "null_cols = users_columns.isnull().sum()\n",
    "null_cols"
   ]
  },
  {
   "cell_type": "code",
   "execution_count": null,
   "metadata": {},
   "outputs": [],
   "source": [
    "users_columns[['alcaldia_hechos','unidad_investigacion','colonia_hechos','calle_hechos','Esquina']] = users_columns[['alcaldia_hechos','unidad_investigacion','colonia_hechos','calle_hechos','Esquina']].fillna('')\n",
    "\n",
    "#Filas donde Hay valores nulos en fields.geopoint\n",
    "bool_series = pd.isnull(users_columns[\"fields.geopoint\"])\n",
    "nulos=users_columns[bool_series]\n",
    "nulos.index"
   ]
  },
  {
   "cell_type": "code",
   "execution_count": null,
   "metadata": {},
   "outputs": [],
   "source": [
    "#Se eliminaron filas con valores nulos\n",
    "users_columns=users_columns.drop(nulos.index,axis=0)\n",
    "users_columns"
   ]
  },
  {
   "cell_type": "code",
   "execution_count": null,
   "metadata": {},
   "outputs": [],
   "source": [
    "#se eliminaron fechas de hechos ya que a pesar de ser pocos no tenian otra fecha para poder rellenar el dato\n",
    "bool_series = pd.isnull(users_columns[\"fecha_hechos\"])\n",
    "nulos=users_columns[bool_series]\n",
    "users_columns=users_columns.drop(nulos.index,axis=0)"
   ]
  },
  {
   "cell_type": "code",
   "execution_count": null,
   "metadata": {},
   "outputs": [],
   "source": [
    "null_cols = users_columns.isnull().sum()\n",
    "null_cols"
   ]
  },
  {
   "cell_type": "code",
   "execution_count": null,
   "metadata": {},
   "outputs": [],
   "source": [
    "users_columns.to_csv('CIPGJ_ordenado_limpio.csv', index=False)"
   ]
  },
  {
   "cell_type": "code",
   "execution_count": null,
   "metadata": {},
   "outputs": [],
   "source": [
    "###########Graficas"
   ]
  },
  {
   "cell_type": "code",
   "execution_count": null,
   "metadata": {},
   "outputs": [],
   "source": [
    "###########Graficas"
   ]
  },
  {
   "cell_type": "code",
   "execution_count": null,
   "metadata": {},
   "outputs": [],
   "source": [
    "users_columns = pd.read_csv('CIPGJ_ordenado_limpio.csv')\n",
    "users_columns"
   ]
  },
  {
   "cell_type": "code",
   "execution_count": null,
   "metadata": {},
   "outputs": [],
   "source": [
    "users_columns.sort_values(by='mes_hechos', ascending=True)"
   ]
  },
  {
   "cell_type": "code",
   "execution_count": null,
   "metadata": {},
   "outputs": [],
   "source": [
    "mes=users_columns.groupby('mes_hechos').size().sort_values(ascending=False).head(10)\n",
    "\n",
    "print(dict(mes))"
   ]
  },
  {
   "cell_type": "code",
   "execution_count": null,
   "metadata": {},
   "outputs": [],
   "source": [
    "users_columns.groupby('fiscalia').size().sort_values(ascending=True).head(10)"
   ]
  },
  {
   "cell_type": "code",
   "execution_count": null,
   "metadata": {},
   "outputs": [],
   "source": [
    "data = users_columns.groupby('delito').size()#.sort_values(ascending=False)\n",
    "data1=dict(data)\n",
    "data1"
   ]
  },
  {
   "cell_type": "code",
   "execution_count": null,
   "metadata": {},
   "outputs": [],
   "source": [
    "Delitosxmes = None\n",
    "for m, v in dict(mes).items():\n",
    "    Delitos = users_columns[(users_columns['mes_hechos']==m)]\n",
    "    Delitosxmes = pd.concat([Delitosxmes, pd.DataFrame(Delitos.groupby('delito').size())[0]], sort=False, axis=1)\n",
    "    Delitosxmes = Delitosxmes.rename(columns={0:m})\n",
    "Delitosxmes.head()"
   ]
  },
  {
   "cell_type": "code",
   "execution_count": null,
   "metadata": {},
   "outputs": [],
   "source": [
    "null_cols = Delitosxmes.isnull().sum()\n",
    "null_cols"
   ]
  },
  {
   "cell_type": "code",
   "execution_count": null,
   "metadata": {},
   "outputs": [],
   "source": [
    "Delitosxmes.index"
   ]
  },
  {
   "cell_type": "code",
   "execution_count": null,
   "metadata": {},
   "outputs": [],
   "source": [
    "nulos = Delitosxmes.isnull().sum()\n",
    "Delitosxmes[Delitosxmes.columns] = Delitosxmes[Delitosxmes.columns].fillna(0)\n",
    "Delitosxmes = Delitosxmes[['Enero','Febrero','Marzo','Abril','Mayo','Agosto','Septiembre','Octubre','Noviembre','Diciembre']]\n",
    "Delitosxmes.head()\n",
    "Delitosxmes.to_csv('Delitos2018_CIPGJ.csv')"
   ]
  },
  {
   "cell_type": "code",
   "execution_count": null,
   "metadata": {},
   "outputs": [],
   "source": [
    "Delitosxmes.loc[['ABANDONO DE PERSONA'], :]\n",
    "incidencia = pd.DataFrame.transpose(Delitosxmes.loc[['ABANDONO DE PERSONA'], :])\n",
    "incidencia2 = pd.DataFrame.transpose(Delitosxmes)\n",
    "\n",
    "dict_columns = {k+1:v for k, v in enumerate(incidencia2.columns)}\n",
    "print('ID Delito', '\\t', 'Delito\\n')\n",
    "for k,v in dict_columns.items():\n",
    "    print(k, '\\t\\t', v)"
   ]
  },
  {
   "cell_type": "code",
   "execution_count": null,
   "metadata": {},
   "outputs": [],
   "source": [
    "incidencia2 = pd.DataFrame.transpose(Delitosxmes)\n",
    "\n",
    "deli=[]\n",
    "i=1\n",
    "while 0<i and i<177:\n",
    "    try:\n",
    "        print(f'Ingresa el ID Delito \\ndebe ser un numero entre 1 y {len(dict_columns)} \\nque deses agregar a la grafica 2018')\n",
    "        i=int(input('O un numero negativo para ver la grafica\\n'))\n",
    "    except:\n",
    "        print(\"ingresa un numero entre 1 y \", len(dict_columns))\n",
    "        i=1\n",
    "        continue\n",
    "    if 0<i and i<177:\n",
    "        deli.append(dict_columns[i])\n",
    "\n",
    "#Las gráficas apreceran automáticamente incrustadas en el notebook\n",
    "%matplotlib inline\n",
    "\n",
    "# Definir los datos eje x, eje y\n",
    "#incidencia = pd.DataFrame.transpose(Delitosxmes.loc[['ABANDONO DE PERSONA'], :])\n",
    "incidencia = incidencia2[deli]\n",
    "\n",
    "horas = list(range(len(incidencia)))\n",
    "\n",
    "# gráfico\n",
    "# Configurar las caracteristicas del grafico\n",
    "i=[-1]\n",
    "def suma():\n",
    "    i[0]=i[0]+1\n",
    "    return i[0]\n",
    "\n",
    "plt.figure(figsize=(20,9))\n",
    "for h in range(len(deli)):    \n",
    "    plt.plot(horas, incidencia[deli[h]], label = deli[h], linewidth = 4, color = (random.random(), random.random(), random.random()))\n",
    "plt.axhline(y=np.mean(incidencia.mean()), linewidth=1, color='r')\n",
    "#Definir nombres de ejes y titulo\n",
    "plt.xlabel('Ene                             Feb                             Mar                             Abl                             '\n",
    "           'May                             Ags                                 Sep                                Oct                             '\n",
    "           'Nov                             Dic')\n",
    "plt.ylabel('No de delitos')\n",
    "plt.title(f'comparatido de {len(deli)} delitos en 2018')\n",
    "#Mostrar leyenda, cuadricula y figura\n",
    "plt.legend()\n",
    "plt.minorticks_on()\n",
    "plt.grid(b=True, which='major', color='#666666', linestyle='-')\n",
    "plt.grid(b=True, which='minor', color='black', linestyle='-', alpha=0.2)\n",
    "plt.show()\n",
    "\n"
   ]
  },
  {
   "cell_type": "code",
   "execution_count": null,
   "metadata": {},
   "outputs": [],
   "source": [
    "users_columns.head(1)"
   ]
  },
  {
   "cell_type": "code",
   "execution_count": null,
   "metadata": {},
   "outputs": [],
   "source": [
    "cf.go_offline() #todos los graficos sean de forma local en el cpu"
   ]
  },
  {
   "cell_type": "code",
   "execution_count": null,
   "metadata": {},
   "outputs": [],
   "source": [
    "incidencia2.head()"
   ]
  },
  {
   "cell_type": "code",
   "execution_count": null,
   "metadata": {},
   "outputs": [],
   "source": [
    "incidencia2.iplot(kind='scatter')"
   ]
  },
  {
   "cell_type": "code",
   "execution_count": null,
   "metadata": {},
   "outputs": [],
   "source": [
    "incidencia2.iplot(kind='bar', yTitle='Numero de delitos por mes', title='Incidencia delictiva',\n",
    "             filename='cufflinks/categorical-bar-chart')"
   ]
  },
  {
   "cell_type": "code",
   "execution_count": null,
   "metadata": {},
   "outputs": [],
   "source": [
    "incidencia2.iplot(kind='bar', barmode='stack', filename='cufflinks/grouped-bar-chart')"
   ]
  },
  {
   "cell_type": "code",
   "execution_count": null,
   "metadata": {},
   "outputs": [],
   "source": [
    "incidencia2.iplot(kind='barh',barmode='stack', bargap=.1, filename='cufflinks/barh')"
   ]
  },
  {
   "cell_type": "code",
   "execution_count": null,
   "metadata": {},
   "outputs": [],
   "source": [
    "delitos=users_columns\n",
    "delitos"
   ]
  },
  {
   "cell_type": "code",
   "execution_count": null,
   "metadata": {},
   "outputs": [],
   "source": [
    "table = pd.pivot_table(users_columns, \n",
    "                       index=['categoria_delito'], \n",
    "                       \n",
    "                       values = 'delito',\n",
    "                       aggfunc={'delito':'count'}\n",
    "                      )\n",
    "table=table.sort_values(by=['delito'], ascending=False)\n",
    "table.iplot(kind='barh',barmode='stack', bargap=.1, xTitle='Numero de delitos en 2018', title='Incidencia delictiva',\n",
    "            filename='cufflinks/barh')\n"
   ]
  },
  {
   "cell_type": "code",
   "execution_count": null,
   "metadata": {},
   "outputs": [],
   "source": [
    "delitos.iplot(kind='scatter', mode='markers', x='mes_hechos', y='delito', filename='cufflinks/simple-scatter')"
   ]
  },
  {
   "cell_type": "code",
   "execution_count": null,
   "metadata": {},
   "outputs": [],
   "source": [
    "#Genere un mapa en google maps donde se muestran los 10000 delitos en el 2018 en df \n",
    "#TIENES QUE ACERCAR EL MAPA CON LAS HERRAMIENTAS DE GOOGLE PARA VER CADA PUNTO CORRESPONDIENTE A UN DELITO\n",
    "#DA CLICK SOBRE EL PUNTO PARA VER SU INFO\n",
    "from selenium import webdriver\n",
    "from selenium.webdriver.common.keys import Keys\n",
    "import pandas as pd\n",
    "import time\n",
    "navegador2 = webdriver.Chrome()\n",
    "navegador2.get('https://drive.google.com/open?id=1mmf3oPkCRsK2wnOeQqouMSrHK7BGfRVB&usp=sharing')\n"
   ]
  },
  {
   "cell_type": "code",
   "execution_count": 5,
   "metadata": {},
   "outputs": [
    {
     "data": {
      "application/vnd.jupyter.widget-view+json": {
       "model_id": "b6b553ce3e754711b319434c500398fd",
       "version_major": 2,
       "version_minor": 0
      },
      "text/plain": [
       "Map(basemap={'url': 'https://{s}.tile.openstreetmap.org/{z}/{x}/{y}.png', 'max_zoom': 19, 'attribution': 'Map …"
      ]
     },
     "metadata": {},
     "output_type": "display_data"
    }
   ],
   "source": [
    "%matplotlib inline\n",
    "from ipyleaflet import Map, basemaps, basemap_to_tiles\n",
    "\n",
    "m = Map(\n",
    "    layers=(basemap_to_tiles(basemaps.NASAGIBS.ModisTerraTrueColorCR, \"2017-04-08\"), ),\n",
    "    center=(52.204793, 360.121558),\n",
    "    zoom=4\n",
    ")\n",
    "\n",
    "m"
   ]
  },
  {
   "cell_type": "code",
   "execution_count": 6,
   "metadata": {},
   "outputs": [
    {
     "data": {
      "application/vnd.jupyter.widget-view+json": {
       "model_id": "2d64e8ce0edf455d80ee4fff3be324cf",
       "version_major": 2,
       "version_minor": 0
      },
      "text/plain": [
       "Map(basemap={'url': 'https://{s}.tile.openstreetmap.org/{z}/{x}/{y}.png', 'max_zoom': 19, 'attribution': 'Map …"
      ]
     },
     "metadata": {},
     "output_type": "display_data"
    }
   ],
   "source": [
    "%matplotlib inline\n",
    "\n",
    "from ipyleaflet import Marker, Icon, Map\n",
    "\n",
    "center = (52.204793, 360.121558)\n",
    "\n",
    "m = Map(center=center, zoom=10)\n",
    "icon = Icon(icon_url='https://leafletjs.com/examples/custom-icons/leaf-green.png', icon_size=[38, 95], icon_anchor=[22,94])\n",
    "mark = Marker(location=center, icon=icon, rotation_angle=90, rotation_origin='22px 94px')\n",
    "m.add_layer(mark);\n",
    "\n",
    "m"
   ]
  },
  {
   "cell_type": "code",
   "execution_count": null,
   "metadata": {},
   "outputs": [],
   "source": []
  },
  {
   "cell_type": "code",
   "execution_count": null,
   "metadata": {},
   "outputs": [],
   "source": []
  },
  {
   "cell_type": "code",
   "execution_count": null,
   "metadata": {},
   "outputs": [],
   "source": []
  },
  {
   "cell_type": "code",
   "execution_count": null,
   "metadata": {},
   "outputs": [],
   "source": []
  },
  {
   "cell_type": "code",
   "execution_count": null,
   "metadata": {},
   "outputs": [],
   "source": []
  }
 ],
 "metadata": {
  "kernelspec": {
   "display_name": "Python 3",
   "language": "python",
   "name": "python3"
  },
  "language_info": {
   "codemirror_mode": {
    "name": "ipython",
    "version": 3
   },
   "file_extension": ".py",
   "mimetype": "text/x-python",
   "name": "python",
   "nbconvert_exporter": "python",
   "pygments_lexer": "ipython3",
   "version": "3.7.3"
  }
 },
 "nbformat": 4,
 "nbformat_minor": 2
}
